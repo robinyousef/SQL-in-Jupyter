{
 "cells": [
  {
   "cell_type": "markdown",
   "metadata": {},
   "source": [
    "# Case 13: SQL I"
   ]
  },
  {
   "cell_type": "markdown",
   "metadata": {},
   "source": [
    "## *How can we optimize our sales of financial products?*"
   ]
  },
  {
   "cell_type": "markdown",
   "metadata": {},
   "source": [
    "## Goals (2 min)\n",
    "\n",
    "By the end of ths case, you will be familiar with databases. Specifically, you will learn the differences among the major types of databases and the different database management systems available. Basic SQL queries will also be introduced.\n",
    "\n",
    "You will also be exposed to the technical jargon of databases. While you probably will not use these terms on a daily basis, they will give you a more holistic understanding of the data engineering discipline and facilitate conversations between yourself and other data engineers."
   ]
  },
  {
   "cell_type": "markdown",
   "metadata": {},
   "source": [
    "## Introduction (5 min)\n",
    "\n",
    "**Business Context.** You are a data analyst at a large financial services firm that sells a diverse portfolio of products. In order to make these sales, the firm relies on a call center where sales agents make calls to current as well as prospective customers. The company would like you to dive into their data to devise strategies to increase their revenue or reduce their costs. Specifically, they would like to double down on their most reliable customers, and to cut out sales agents whom are not producing outcomes.\n",
    "\n",
    "**Business Problem.** The business would like to answer the following questions: **\"What types of customers are most likely to buy our product? And which of my sales agents are the most/least productive?**\n",
    "\n",
    "**Analytical Context.** The data is split across 3 tables: \"Agents\", \"Calls\", and \"Customers\", which sit on CSV files. Unlike previous cases though, we will first be reading these CSV files into a SQLite database created within Python. You will learn how this database differs from CSV files and how to interact with it using SQL to extract useful insights.\n",
    "\n",
    "The case is sequenced as follows: you will (1) learn the fundamentals of databases and SQL; (2) use SQL `SELECT` statements to identify potentially interesting customers; and (4) use SQL aggregation functions to compute summary statistics on your agents and identify the most/least productive ones."
   ]
  },
  {
   "cell_type": "markdown",
   "metadata": {},
   "source": [
    "## What is this \"SQL\" thing? (8 min)"
   ]
  },
  {
   "cell_type": "markdown",
   "metadata": {},
   "source": [
    "In this case, we will be writing SQL queries using the [`SQLAlchemy`](https://www.sqlalchemy.org/) package in Python. This allows you to directly interface with relational databases without exiting the Python environment, while using syntax that is identical to what you would write outside of Python. Run the code below to set up this framework:"
   ]
  },
  {
   "cell_type": "code",
   "execution_count": 3,
   "metadata": {},
   "outputs": [],
   "source": [
    "import pandas as pd\n",
    "from sqlalchemy import create_engine, text\n",
    "\n",
    "#maximum number of rows to display\n",
    "pd.options.display.max_rows = 10\n",
    "\n",
    "engine=create_engine('sqlite://')\n",
    "df = pd.read_csv('customer.csv').to_sql('customer', engine, if_exists='replace', index=False)\n",
    "df = pd.read_csv('agent.csv').to_sql('agent', engine, if_exists='replace', index=False)\n",
    "df = pd.read_csv('call.csv').to_sql('call', engine, if_exists='replace', index=False)\n",
    "\n",
    "def runQuery(sql):\n",
    "    result = engine.connect().execute((text(sql)))\n",
    "    return pd.DataFrame(result.fetchall(), columns=result.keys())"
   ]
  },
  {
   "cell_type": "code",
   "execution_count": 4,
   "metadata": {},
   "outputs": [
    {
     "data": {
      "text/html": [
       "<div>\n",
       "<style scoped>\n",
       "    .dataframe tbody tr th:only-of-type {\n",
       "        vertical-align: middle;\n",
       "    }\n",
       "\n",
       "    .dataframe tbody tr th {\n",
       "        vertical-align: top;\n",
       "    }\n",
       "\n",
       "    .dataframe thead th {\n",
       "        text-align: right;\n",
       "    }\n",
       "</style>\n",
       "<table border=\"1\" class=\"dataframe\">\n",
       "  <thead>\n",
       "    <tr style=\"text-align: right;\">\n",
       "      <th></th>\n",
       "      <th>COUNT(*)</th>\n",
       "    </tr>\n",
       "  </thead>\n",
       "  <tbody>\n",
       "    <tr>\n",
       "      <th>0</th>\n",
       "      <td>1000</td>\n",
       "    </tr>\n",
       "  </tbody>\n",
       "</table>\n",
       "</div>"
      ],
      "text/plain": [
       "   COUNT(*)\n",
       "0      1000"
      ]
     },
     "execution_count": 4,
     "metadata": {},
     "output_type": "execute_result"
    }
   ],
   "source": [
    "query_robin = \"\"\"SELECT COUNT(*) FROM customer\"\"\"\n",
    "runQuery(query_robin)"
   ]
  },
  {
   "cell_type": "markdown",
   "metadata": {},
   "source": [
    "The columns in each of the tables are as follows:\n",
    "\n",
    "**agent.csv**:\n",
    "- **AgentID**: the primary key of the table (more on this below)\n",
    "- **Name**: the name of the agent\n",
    "\n",
    "**call.csv**:\n",
    "- **CallID**: the primary key of the table\n",
    "- **AgentID**: a foreign key (more on this below) to the agents table of the agent who made the call\n",
    "- **CustomerID**: a foreign key to the customers table of the customer who is being called\n",
    "- **PickedUp**: a Boolean that is 1 if the customer picked up and 0 if they did not\n",
    "- **Duration**: integer of the duration of the call\n",
    "- **ProductSold**: a Boolean that is 1 if the agent made a sale and 0 if they did not\n",
    "\n",
    "**customer.csv**:\n",
    "- **CustomerID**: the primary key of the table\n",
    "- **Name**: the name of the customer\n",
    "- **Occupation**: the occupation of the customer. 'Unemployed' if no occupation\n",
    "- **Email**: the email of the customer\n",
    "- **Company**: the company that the customer works for\n",
    "- **PhoneNumber**: the phone number of the customer\n",
    "- **Age**: the age of the customer\n",
    "\n",
    "\n",
    "The above database structure can be visualized as below. This is called an **Entity Relationship (ER) Diagram**, denoting the tables present in the database, the columns in the tables, and the relations among the tables:\n",
    "\n",
    "![ER Diagram](images/database_schema.png)\n",
    "\n",
    "The above diagram gives a good overview of how the schema is structured and how the data is interconnected."
   ]
  },
  {
   "cell_type": "markdown",
   "metadata": {},
   "source": [
    "## Finding potentially interesting customer cohorts (20 min)\n",
    "\n",
    "The most important thing you will ever do in SQL is extract a subset of the data from a SQL table based on a set of rules. This is accomplished using the **`SELECT`** statement and the following syntax:\n",
    "\n",
    "![Select Anatomy](./images/select_anatomy.png)\n",
    "\n",
    "To translate the above diagram into words:\n",
    "\n",
    "1. Start with the keyword `SELECT`\n",
    "2. Follow with the names of the columns you want to select, separated by commas (alternatively, you can use the `*` symbol to indicate you wish to select all columns)\n",
    "3. Follow with the keyword `FROM`\n",
    "4. Finish with the name of the table you wish to select data from\n",
    "5. Optionally, you can use the `WHERE` clause to only return results which satisfy certain conditions (similar to how code within Python `if...then` blocks only execute if the associated conditions are true)\n",
    "\n",
    "Since the firm wants to dig deeper into its customers, let's start by pulling some of their data out of our files; namely, information about customers who are not unemployed (and therefore are more likely to buy from us)."
   ]
  },
  {
   "cell_type": "markdown",
   "metadata": {},
   "source": [
    "### Exercise 1: (5 min)\n",
    "\n",
    "Write a query that selects the customer ID and name from the `Customer` table, only showing results for customers who are not unemployed. Remember to write your query as a multi-line string (enclosed within a pair of triple quotes `\"\"\"`) and pass it to the `runQuery()` function defined in the framework above to check your work!"
   ]
  },
  {
   "cell_type": "markdown",
   "metadata": {},
   "source": [
    "**Answer**. One possible solution is given below:"
   ]
  },
  {
   "cell_type": "markdown",
   "metadata": {},
   "source": [
    "```SQL\n",
    "SELECT CustomerID, Name\n",
    "FROM Customer\n",
    "WHERE Occupation != 'Unemployed'\n",
    "```"
   ]
  },
  {
   "cell_type": "code",
   "execution_count": 6,
   "metadata": {},
   "outputs": [
    {
     "data": {
      "text/html": [
       "<div>\n",
       "<style scoped>\n",
       "    .dataframe tbody tr th:only-of-type {\n",
       "        vertical-align: middle;\n",
       "    }\n",
       "\n",
       "    .dataframe tbody tr th {\n",
       "        vertical-align: top;\n",
       "    }\n",
       "\n",
       "    .dataframe thead th {\n",
       "        text-align: right;\n",
       "    }\n",
       "</style>\n",
       "<table border=\"1\" class=\"dataframe\">\n",
       "  <thead>\n",
       "    <tr style=\"text-align: right;\">\n",
       "      <th></th>\n",
       "      <th>CustomerID</th>\n",
       "      <th>Name</th>\n",
       "    </tr>\n",
       "  </thead>\n",
       "  <tbody>\n",
       "    <tr>\n",
       "      <th>0</th>\n",
       "      <td>1</td>\n",
       "      <td>Michael Gonzalez</td>\n",
       "    </tr>\n",
       "    <tr>\n",
       "      <th>1</th>\n",
       "      <td>2</td>\n",
       "      <td>Amanda Wilson</td>\n",
       "    </tr>\n",
       "    <tr>\n",
       "      <th>2</th>\n",
       "      <td>3</td>\n",
       "      <td>Robert Thomas</td>\n",
       "    </tr>\n",
       "    <tr>\n",
       "      <th>3</th>\n",
       "      <td>4</td>\n",
       "      <td>Eddie Hall</td>\n",
       "    </tr>\n",
       "    <tr>\n",
       "      <th>4</th>\n",
       "      <td>6</td>\n",
       "      <td>Maria Johnson</td>\n",
       "    </tr>\n",
       "    <tr>\n",
       "      <th>...</th>\n",
       "      <td>...</td>\n",
       "      <td>...</td>\n",
       "    </tr>\n",
       "    <tr>\n",
       "      <th>755</th>\n",
       "      <td>994</td>\n",
       "      <td>Ruben Steele</td>\n",
       "    </tr>\n",
       "    <tr>\n",
       "      <th>756</th>\n",
       "      <td>995</td>\n",
       "      <td>Ashley Young</td>\n",
       "    </tr>\n",
       "    <tr>\n",
       "      <th>757</th>\n",
       "      <td>996</td>\n",
       "      <td>Mr. Steven Smith</td>\n",
       "    </tr>\n",
       "    <tr>\n",
       "      <th>758</th>\n",
       "      <td>997</td>\n",
       "      <td>Mark Smith</td>\n",
       "    </tr>\n",
       "    <tr>\n",
       "      <th>759</th>\n",
       "      <td>999</td>\n",
       "      <td>Karen Barber</td>\n",
       "    </tr>\n",
       "  </tbody>\n",
       "</table>\n",
       "<p>760 rows × 2 columns</p>\n",
       "</div>"
      ],
      "text/plain": [
       "     CustomerID              Name\n",
       "0             1  Michael Gonzalez\n",
       "1             2     Amanda Wilson\n",
       "2             3     Robert Thomas\n",
       "3             4        Eddie Hall\n",
       "4             6     Maria Johnson\n",
       "..          ...               ...\n",
       "755         994      Ruben Steele\n",
       "756         995      Ashley Young\n",
       "757         996  Mr. Steven Smith\n",
       "758         997        Mark Smith\n",
       "759         999      Karen Barber\n",
       "\n",
       "[760 rows x 2 columns]"
      ]
     },
     "execution_count": 6,
     "metadata": {},
     "output_type": "execute_result"
    }
   ],
   "source": [
    "query1 = \"\"\"SElECT CustomerID, Name\n",
    "FROM Customer\n",
    "WHERE Occupation != 'Unemployed'\"\"\"\n",
    "runQuery(query1)"
   ]
  },
  {
   "cell_type": "markdown",
   "metadata": {},
   "source": [
    "Of course, for names, it's sensible to try to list them in alphabetical order. SQL allows us to do this rather easily with the `ORDER BY` statement. This is then followed by a comma-separated list of columns on which you want to order your results (columns that come first take priority in the subsequent ordering). Optionally, you can then append the keyword `ASC` or `DESC` (short for ascending and descending, respectively) after each column to determine the ordering type (e.g. alphabetical or reverse-alphabetical for a string column).\n",
    "\n",
    "We can also use the `AS` statment to change the name of a column returned by your query. However, this change is only temporary and is only valid for that particular query. For example, we can rename the `Name` column to `CustomerName` and order it alphabetically. This operation is known as **aliasing**:"
   ]
  },
  {
   "cell_type": "markdown",
   "metadata": {},
   "source": [
    "```SQL\n",
    "SELECT CustomerID, Name AS CustomerName\n",
    "FROM Customer\n",
    "WHERE Occupation != 'Unemployed'\n",
    "ORDER BY CustomerName\n",
    "```"
   ]
  },
  {
   "cell_type": "code",
   "execution_count": 9,
   "metadata": {},
   "outputs": [
    {
     "data": {
      "text/html": [
       "<div>\n",
       "<style scoped>\n",
       "    .dataframe tbody tr th:only-of-type {\n",
       "        vertical-align: middle;\n",
       "    }\n",
       "\n",
       "    .dataframe tbody tr th {\n",
       "        vertical-align: top;\n",
       "    }\n",
       "\n",
       "    .dataframe thead th {\n",
       "        text-align: right;\n",
       "    }\n",
       "</style>\n",
       "<table border=\"1\" class=\"dataframe\">\n",
       "  <thead>\n",
       "    <tr style=\"text-align: right;\">\n",
       "      <th></th>\n",
       "      <th>CustomerID</th>\n",
       "      <th>CustomerName</th>\n",
       "    </tr>\n",
       "  </thead>\n",
       "  <tbody>\n",
       "    <tr>\n",
       "      <th>0</th>\n",
       "      <td>900</td>\n",
       "      <td>Aaron Gutierrez</td>\n",
       "    </tr>\n",
       "    <tr>\n",
       "      <th>1</th>\n",
       "      <td>622</td>\n",
       "      <td>Aaron Rose</td>\n",
       "    </tr>\n",
       "    <tr>\n",
       "      <th>2</th>\n",
       "      <td>226</td>\n",
       "      <td>Adam Ward</td>\n",
       "    </tr>\n",
       "    <tr>\n",
       "      <th>3</th>\n",
       "      <td>786</td>\n",
       "      <td>Alan Chambers</td>\n",
       "    </tr>\n",
       "    <tr>\n",
       "      <th>4</th>\n",
       "      <td>985</td>\n",
       "      <td>Alan Mitchell</td>\n",
       "    </tr>\n",
       "    <tr>\n",
       "      <th>...</th>\n",
       "      <td>...</td>\n",
       "      <td>...</td>\n",
       "    </tr>\n",
       "    <tr>\n",
       "      <th>755</th>\n",
       "      <td>699</td>\n",
       "      <td>Willie Greene</td>\n",
       "    </tr>\n",
       "    <tr>\n",
       "      <th>756</th>\n",
       "      <td>715</td>\n",
       "      <td>Yesenia Wright</td>\n",
       "    </tr>\n",
       "    <tr>\n",
       "      <th>757</th>\n",
       "      <td>952</td>\n",
       "      <td>Yolanda White</td>\n",
       "    </tr>\n",
       "    <tr>\n",
       "      <th>758</th>\n",
       "      <td>421</td>\n",
       "      <td>Zachary Ruiz</td>\n",
       "    </tr>\n",
       "    <tr>\n",
       "      <th>759</th>\n",
       "      <td>392</td>\n",
       "      <td>Zachary Wilson</td>\n",
       "    </tr>\n",
       "  </tbody>\n",
       "</table>\n",
       "<p>760 rows × 2 columns</p>\n",
       "</div>"
      ],
      "text/plain": [
       "     CustomerID     CustomerName\n",
       "0           900  Aaron Gutierrez\n",
       "1           622       Aaron Rose\n",
       "2           226        Adam Ward\n",
       "3           786    Alan Chambers\n",
       "4           985    Alan Mitchell\n",
       "..          ...              ...\n",
       "755         699    Willie Greene\n",
       "756         715   Yesenia Wright\n",
       "757         952    Yolanda White\n",
       "758         421     Zachary Ruiz\n",
       "759         392   Zachary Wilson\n",
       "\n",
       "[760 rows x 2 columns]"
      ]
     },
     "execution_count": 9,
     "metadata": {},
     "output_type": "execute_result"
    }
   ],
   "source": [
    "query2 = \"\"\"SELECT CustomerID, Name AS CustomerName\n",
    "FROM Customer\n",
    "WHERE Occupation != 'Unemployed'\n",
    "ORDER BY CustomerName\"\"\"\n",
    "runQuery(query2)"
   ]
  },
  {
   "cell_type": "markdown",
   "metadata": {},
   "source": [
    "This is a great first step; however, while producing the list of customers that are not unemployed, you inevitably spend a lot of time looking at the different professions your customers have and realize how often engineers appear in your database. You know that engineering jobs tend to command higher salaries these days, so you decide to try to extract a list of all the unique types of engineering jobs that are represented in your database. To ensure that you don't get duplicate job titles in your query results, you'll need to write the keyword `DISTINCT` immediately after `SELECT` in your query."
   ]
  },
  {
   "cell_type": "markdown",
   "metadata": {},
   "source": [
    "### Exercise 2: (5 min)\n",
    "\n",
    "Write a query which produces a list, in alphabetical order, of all the distinct occupations in the `Customer` table that contain the word \"Engineer\".\n",
    "\n",
    "**Hint:** The `LIKE` operator can be used when you want to look for similar values. It is included as part of a `WHERE` clause. It needs to be complemented with the `%` symbol, which is a wild card that represents zero, one, or multiple characters. For example, one valid `WHERE` clause utilizing the `LIKE` operator is `WHERE Name LIKE 'Matt%'`, which would return any results where the person's name starts with the word \"Matt\"; e.g. \"Matt\" or \"Matteo\" or \"Matthew\", etc."
   ]
  },
  {
   "cell_type": "markdown",
   "metadata": {},
   "source": [
    "**Answer.** One possible solution is given below:"
   ]
  },
  {
   "cell_type": "markdown",
   "metadata": {},
   "source": [
    "```SQL\n",
    "SELECT DISTINCT Occupation\n",
    "FROM Customer\n",
    "WHERE Occupation LIKE '%Engineer%'\n",
    "ORDER BY Occupation\n",
    "```"
   ]
  },
  {
   "cell_type": "code",
   "execution_count": 16,
   "metadata": {},
   "outputs": [
    {
     "data": {
      "text/html": [
       "<div>\n",
       "<style scoped>\n",
       "    .dataframe tbody tr th:only-of-type {\n",
       "        vertical-align: middle;\n",
       "    }\n",
       "\n",
       "    .dataframe tbody tr th {\n",
       "        vertical-align: top;\n",
       "    }\n",
       "\n",
       "    .dataframe thead th {\n",
       "        text-align: right;\n",
       "    }\n",
       "</style>\n",
       "<table border=\"1\" class=\"dataframe\">\n",
       "  <thead>\n",
       "    <tr style=\"text-align: right;\">\n",
       "      <th></th>\n",
       "      <th>Occupation</th>\n",
       "    </tr>\n",
       "  </thead>\n",
       "  <tbody>\n",
       "    <tr>\n",
       "      <th>0</th>\n",
       "      <td>Chemical engineer</td>\n",
       "    </tr>\n",
       "    <tr>\n",
       "      <th>1</th>\n",
       "      <td>Electrical engineer</td>\n",
       "    </tr>\n",
       "    <tr>\n",
       "      <th>2</th>\n",
       "      <td>Engineer, aeronautical</td>\n",
       "    </tr>\n",
       "    <tr>\n",
       "      <th>3</th>\n",
       "      <td>Engineer, agricultural</td>\n",
       "    </tr>\n",
       "    <tr>\n",
       "      <th>4</th>\n",
       "      <td>Engineer, automotive</td>\n",
       "    </tr>\n",
       "    <tr>\n",
       "      <th>...</th>\n",
       "      <td>...</td>\n",
       "    </tr>\n",
       "    <tr>\n",
       "      <th>24</th>\n",
       "      <td>Engineer, production</td>\n",
       "    </tr>\n",
       "    <tr>\n",
       "      <th>25</th>\n",
       "      <td>Engineer, site</td>\n",
       "    </tr>\n",
       "    <tr>\n",
       "      <th>26</th>\n",
       "      <td>Engineer, structural</td>\n",
       "    </tr>\n",
       "    <tr>\n",
       "      <th>27</th>\n",
       "      <td>Engineer, technical sales</td>\n",
       "    </tr>\n",
       "    <tr>\n",
       "      <th>28</th>\n",
       "      <td>Engineer, water</td>\n",
       "    </tr>\n",
       "  </tbody>\n",
       "</table>\n",
       "<p>29 rows × 1 columns</p>\n",
       "</div>"
      ],
      "text/plain": [
       "                   Occupation\n",
       "0           Chemical engineer\n",
       "1         Electrical engineer\n",
       "2      Engineer, aeronautical\n",
       "3      Engineer, agricultural\n",
       "4        Engineer, automotive\n",
       "..                        ...\n",
       "24       Engineer, production\n",
       "25             Engineer, site\n",
       "26       Engineer, structural\n",
       "27  Engineer, technical sales\n",
       "28            Engineer, water\n",
       "\n",
       "[29 rows x 1 columns]"
      ]
     },
     "execution_count": 16,
     "metadata": {},
     "output_type": "execute_result"
    }
   ],
   "source": [
    "query3 = \"\"\"SELECT DISTINCT Occupation\n",
    "FROM Customer\n",
    "WHERE Occupation LIKE '%Engineer%'\n",
    "ORDER BY Occupation\"\"\"\n",
    "runQuery(query3)"
   ]
  },
  {
   "cell_type": "markdown",
   "metadata": {},
   "source": [
    "Now, one of your marketing colleagues tells you that people who are 30 or older will have a higher probability of buying your product (presumably because by that point they have more disposable income and savings). You don't want to take your colleague's word for granted, so you decide not to completely ignore people under 30, and instead add that information to the report regarding the person’s age, so that the agent making the subsequent call can decide how they want to use that information. However, due to privacy concerns, you also cannot share the person's exact age."
   ]
  },
  {
   "cell_type": "markdown",
   "metadata": {},
   "source": [
    "### Exercise 3: (5 min)\n",
    "\n",
    "Write a query that retuns the customer ID, their name, and a column `Over30` containing \"Yes\" if the customer is more than 30 years of age and \"No\" if not.\n",
    "\n",
    "**Hint:** You will need to use the `CASE-END` clause. The `CASE-END` clause can be used to evaluate conditional statements and returns a value once a condition is met (similar to an if-then-else clause in Python). If no conditions are true, it returns the value in the ELSE clause (or NULL if there is no ELSE statement). For example:\n",
    "\n",
    "```SQL\n",
    "CASE\n",
    "    WHEN Name = \"Matt\" THEN 'Yes'\n",
    "    WHEN Name = \"Matteo\" THEN 'Maybe'\n",
    "    ELSE 'No'\n",
    "END\n",
    "```"
   ]
  },
  {
   "cell_type": "markdown",
   "metadata": {},
   "source": [
    "**Answer.** One possible solution is given below:"
   ]
  },
  {
   "cell_type": "markdown",
   "metadata": {},
   "source": [
    "```SQL\n",
    "SELECT \n",
    "    CustomerID, \n",
    "    Name,\n",
    "    CASE\n",
    "        WHEN Age >= 30 THEN 'Yes'\n",
    "        WHEN Age <  30 THEN 'No'\n",
    "        ELSE 'Missing Data'\n",
    "    END AS Over30\n",
    "FROM Customer\n",
    "ORDER BY Name DESC\n",
    "```"
   ]
  },
  {
   "cell_type": "code",
   "execution_count": 17,
   "metadata": {},
   "outputs": [
    {
     "data": {
      "text/html": [
       "<div>\n",
       "<style scoped>\n",
       "    .dataframe tbody tr th:only-of-type {\n",
       "        vertical-align: middle;\n",
       "    }\n",
       "\n",
       "    .dataframe tbody tr th {\n",
       "        vertical-align: top;\n",
       "    }\n",
       "\n",
       "    .dataframe thead th {\n",
       "        text-align: right;\n",
       "    }\n",
       "</style>\n",
       "<table border=\"1\" class=\"dataframe\">\n",
       "  <thead>\n",
       "    <tr style=\"text-align: right;\">\n",
       "      <th></th>\n",
       "      <th>CustomerID</th>\n",
       "      <th>Name</th>\n",
       "      <th>Over30</th>\n",
       "    </tr>\n",
       "  </thead>\n",
       "  <tbody>\n",
       "    <tr>\n",
       "      <th>0</th>\n",
       "      <td>392</td>\n",
       "      <td>Zachary Wilson</td>\n",
       "      <td>Yes</td>\n",
       "    </tr>\n",
       "    <tr>\n",
       "      <th>1</th>\n",
       "      <td>986</td>\n",
       "      <td>Zachary Stevenson</td>\n",
       "      <td>No</td>\n",
       "    </tr>\n",
       "    <tr>\n",
       "      <th>2</th>\n",
       "      <td>421</td>\n",
       "      <td>Zachary Ruiz</td>\n",
       "      <td>Yes</td>\n",
       "    </tr>\n",
       "    <tr>\n",
       "      <th>3</th>\n",
       "      <td>18</td>\n",
       "      <td>Zachary Howe</td>\n",
       "      <td>No</td>\n",
       "    </tr>\n",
       "    <tr>\n",
       "      <th>4</th>\n",
       "      <td>883</td>\n",
       "      <td>Zachary Anderson</td>\n",
       "      <td>No</td>\n",
       "    </tr>\n",
       "    <tr>\n",
       "      <th>...</th>\n",
       "      <td>...</td>\n",
       "      <td>...</td>\n",
       "      <td>...</td>\n",
       "    </tr>\n",
       "    <tr>\n",
       "      <th>995</th>\n",
       "      <td>65</td>\n",
       "      <td>Adam Jimenez</td>\n",
       "      <td>No</td>\n",
       "    </tr>\n",
       "    <tr>\n",
       "      <th>996</th>\n",
       "      <td>622</td>\n",
       "      <td>Aaron Rose</td>\n",
       "      <td>No</td>\n",
       "    </tr>\n",
       "    <tr>\n",
       "      <th>997</th>\n",
       "      <td>145</td>\n",
       "      <td>Aaron Mcintyre</td>\n",
       "      <td>No</td>\n",
       "    </tr>\n",
       "    <tr>\n",
       "      <th>998</th>\n",
       "      <td>461</td>\n",
       "      <td>Aaron Hendrix</td>\n",
       "      <td>No</td>\n",
       "    </tr>\n",
       "    <tr>\n",
       "      <th>999</th>\n",
       "      <td>900</td>\n",
       "      <td>Aaron Gutierrez</td>\n",
       "      <td>Yes</td>\n",
       "    </tr>\n",
       "  </tbody>\n",
       "</table>\n",
       "<p>1000 rows × 3 columns</p>\n",
       "</div>"
      ],
      "text/plain": [
       "     CustomerID               Name Over30\n",
       "0           392     Zachary Wilson    Yes\n",
       "1           986  Zachary Stevenson     No\n",
       "2           421       Zachary Ruiz    Yes\n",
       "3            18       Zachary Howe     No\n",
       "4           883   Zachary Anderson     No\n",
       "..          ...                ...    ...\n",
       "995          65       Adam Jimenez     No\n",
       "996         622         Aaron Rose     No\n",
       "997         145     Aaron Mcintyre     No\n",
       "998         461      Aaron Hendrix     No\n",
       "999         900    Aaron Gutierrez    Yes\n",
       "\n",
       "[1000 rows x 3 columns]"
      ]
     },
     "execution_count": 17,
     "metadata": {},
     "output_type": "execute_result"
    }
   ],
   "source": [
    "query4 = \"\"\"SELECT CustomerID, Name,\n",
    "    CASE\n",
    "        WHEN Age >= 30 THEN 'Yes'\n",
    "        WHEN Age <  30 THEN 'No'\n",
    "        ELSE 'Missing Data'\n",
    "    END AS Over30\n",
    "FROM Customer\n",
    "ORDER BY Name DESC\"\"\"\n",
    "runQuery(query4)"
   ]
  },
  {
   "cell_type": "markdown",
   "metadata": {},
   "source": [
    "Let's now modify Exercise 3 so that the query only returns customers who work in an engineering profession:"
   ]
  },
  {
   "cell_type": "markdown",
   "metadata": {},
   "source": [
    "```SQL\n",
    "SELECT CustomerID, Name,\n",
    "    CASE\n",
    "        WHEN Age >= 30 THEN 'Yes'\n",
    "        WHEN Age <  30 THEN 'No'\n",
    "        ELSE 'Missing Data'\n",
    "    END AS Over30\n",
    "FROM Customer\n",
    "WHERE Occupation LIKE '%Engineer%'\n",
    "ORDER BY Name DESC\n",
    "```"
   ]
  },
  {
   "cell_type": "code",
   "execution_count": 18,
   "metadata": {},
   "outputs": [
    {
     "data": {
      "text/html": [
       "<div>\n",
       "<style scoped>\n",
       "    .dataframe tbody tr th:only-of-type {\n",
       "        vertical-align: middle;\n",
       "    }\n",
       "\n",
       "    .dataframe tbody tr th {\n",
       "        vertical-align: top;\n",
       "    }\n",
       "\n",
       "    .dataframe thead th {\n",
       "        text-align: right;\n",
       "    }\n",
       "</style>\n",
       "<table border=\"1\" class=\"dataframe\">\n",
       "  <thead>\n",
       "    <tr style=\"text-align: right;\">\n",
       "      <th></th>\n",
       "      <th>CustomerID</th>\n",
       "      <th>Name</th>\n",
       "      <th>Over30</th>\n",
       "    </tr>\n",
       "  </thead>\n",
       "  <tbody>\n",
       "    <tr>\n",
       "      <th>0</th>\n",
       "      <td>421</td>\n",
       "      <td>Zachary Ruiz</td>\n",
       "      <td>Yes</td>\n",
       "    </tr>\n",
       "    <tr>\n",
       "      <th>1</th>\n",
       "      <td>952</td>\n",
       "      <td>Yolanda White</td>\n",
       "      <td>No</td>\n",
       "    </tr>\n",
       "    <tr>\n",
       "      <th>2</th>\n",
       "      <td>699</td>\n",
       "      <td>Willie Greene</td>\n",
       "      <td>Yes</td>\n",
       "    </tr>\n",
       "    <tr>\n",
       "      <th>3</th>\n",
       "      <td>973</td>\n",
       "      <td>William Jackson</td>\n",
       "      <td>Yes</td>\n",
       "    </tr>\n",
       "    <tr>\n",
       "      <th>4</th>\n",
       "      <td>966</td>\n",
       "      <td>William Garcia</td>\n",
       "      <td>No</td>\n",
       "    </tr>\n",
       "    <tr>\n",
       "      <th>...</th>\n",
       "      <td>...</td>\n",
       "      <td>...</td>\n",
       "      <td>...</td>\n",
       "    </tr>\n",
       "    <tr>\n",
       "      <th>356</th>\n",
       "      <td>918</td>\n",
       "      <td>Alison Vaughan</td>\n",
       "      <td>Yes</td>\n",
       "    </tr>\n",
       "    <tr>\n",
       "      <th>357</th>\n",
       "      <td>568</td>\n",
       "      <td>Alice Lee</td>\n",
       "      <td>No</td>\n",
       "    </tr>\n",
       "    <tr>\n",
       "      <th>358</th>\n",
       "      <td>432</td>\n",
       "      <td>Alexis Riddle</td>\n",
       "      <td>No</td>\n",
       "    </tr>\n",
       "    <tr>\n",
       "      <th>359</th>\n",
       "      <td>985</td>\n",
       "      <td>Alan Mitchell</td>\n",
       "      <td>Yes</td>\n",
       "    </tr>\n",
       "    <tr>\n",
       "      <th>360</th>\n",
       "      <td>622</td>\n",
       "      <td>Aaron Rose</td>\n",
       "      <td>No</td>\n",
       "    </tr>\n",
       "  </tbody>\n",
       "</table>\n",
       "<p>361 rows × 3 columns</p>\n",
       "</div>"
      ],
      "text/plain": [
       "     CustomerID             Name Over30\n",
       "0           421     Zachary Ruiz    Yes\n",
       "1           952    Yolanda White     No\n",
       "2           699    Willie Greene    Yes\n",
       "3           973  William Jackson    Yes\n",
       "4           966   William Garcia     No\n",
       "..          ...              ...    ...\n",
       "356         918   Alison Vaughan    Yes\n",
       "357         568        Alice Lee     No\n",
       "358         432    Alexis Riddle     No\n",
       "359         985    Alan Mitchell    Yes\n",
       "360         622       Aaron Rose     No\n",
       "\n",
       "[361 rows x 3 columns]"
      ]
     },
     "execution_count": 18,
     "metadata": {},
     "output_type": "execute_result"
    }
   ],
   "source": [
    "query5 = \"\"\"SELECT CustomerID, Name,\n",
    "    CASE\n",
    "        WHEN Age >= 30 THEN 'Yes'\n",
    "        WHEN Age <  30 THEN 'No'\n",
    "        ELSE 'Missing Data'\n",
    "    END AS Over30\n",
    "FROM Customer\n",
    "WHERE Occupation LIKE '%Engineer%'\n",
    "ORDER BY Name DESC\"\"\"\n",
    "runQuery(query5)"
   ]
  },
  {
   "cell_type": "markdown",
   "metadata": {},
   "source": [
    "## Investigating customer conversion rates (20 min)"
   ]
  },
  {
   "cell_type": "markdown",
   "metadata": {},
   "source": [
    "In order to validate whether our hypotheses about engineers and age are true (for example, engineers exhibit higher product sales conversion rates, and perhaps engineers over 30 tend to exhibit an even higher conversion rate), we will need to use two tables: `Call` and `Customer`. This is because the column `ProductSold` lies only in the `Call` table, yet information about customer professions and age only lie in the `Customer` table.\n",
    "\n",
    "`SELECT` commands are not restricted to a single table. In fact, theoretically, there is no limit to the number of tables that you can extract data from in a single SQL query. Let's introduce some new concepts that are relevant once we go beyond a single table.\n",
    "\n",
    "**Primary and foreign keys** are very important concepts that need to be understood by any database professional. Primary keys:\n",
    "\n",
    "1. Uniquely identify a record in the table. Their name usually includes the word \"ID\"\n",
    "    * For example, `CustomerID` is the primary key of the `Customer` table, `AgentID` is the primary key of the `Agent` table, and `CallID` is the primary key of the `Call` table    \n",
    "2. Do not accept null values. And they shouldn't, because they are being used to identify the record\n",
    "3. Are limited to one per table\n",
    "\n",
    "On the other hand, foreign keys:\n",
    "\n",
    "1. Are a field in the table that is the primary key in another table\n",
    "2. Can accept null values\n",
    "3. Are not limited in any way per table\n",
    "    * For example, the `Call` tables has 2 foreign keys: `AgentID` and `CustomerID` pointing to the `Agent` and `Customer` tables, respectively"
   ]
  },
  {
   "cell_type": "markdown",
   "metadata": {},
   "source": [
    "### Extracting call data for customers working in engineering professions (12 min)"
   ]
  },
  {
   "cell_type": "markdown",
   "metadata": {},
   "source": [
    "Let's first extract the relevant data so we can perform this analysis. Here, a **`JOIN`** clause will come in handy. \n",
    "\n",
    "`JOIN` clauses are used to combine data from two or more tables in the same query. For example, in the current scenario, we need to get the name of the agent involved in a call. The `Call` table contains only the `AgentID` and not the name of the agent. `JOIN` becomes useful here so we can match up the `Call` table with the `Agent` table, which does contain the name information.\n",
    "\n",
    "Here's a diagram showing how `JOIN` (specifically, the **`INNER JOIN`**, which is the default version and the only one you will need to worry about in this case) works. Notice that only the rows with `id` of 1 and 4 are extracted because those are the only two `id`s which show up in both tables:\n",
    "\n",
    "![Join](./images/join.png)\n",
    "\n",
    "A `JOIN` clause consists of two parts:\n",
    "\n",
    "1. The base `JOIN` statement, which is of the form `[Table 1] JOIN [Table 2]`. This performs a Cartesian product on the 2 tables being joined. For example, if we have Table A with 5 rows, and Table 5 with 3 rows, their Cartesian product will return 15 rows (5 x 3)\n",
    "2. A `JOIN` criteria, which filters the Cartesian product's results, beginning with the `ON` keyword\n",
    "\n",
    "Here is an example of a `JOIN` criteria in action, which is telling us to only give combinations of rows where the agent ID matches in both tables:\n",
    "\n",
    "```SQL\n",
    "SELECT CallID, A.AgentID, name\n",
    "FROM Call C\n",
    "JOIN Agent A ON C.AgentID = A.AgentID\n",
    "ORDER BY Name DESC\n",
    "```"
   ]
  },
  {
   "cell_type": "code",
   "execution_count": 25,
   "metadata": {},
   "outputs": [
    {
     "data": {
      "text/html": [
       "<div>\n",
       "<style scoped>\n",
       "    .dataframe tbody tr th:only-of-type {\n",
       "        vertical-align: middle;\n",
       "    }\n",
       "\n",
       "    .dataframe tbody tr th {\n",
       "        vertical-align: top;\n",
       "    }\n",
       "\n",
       "    .dataframe thead th {\n",
       "        text-align: right;\n",
       "    }\n",
       "</style>\n",
       "<table border=\"1\" class=\"dataframe\">\n",
       "  <thead>\n",
       "    <tr style=\"text-align: right;\">\n",
       "      <th></th>\n",
       "      <th>CallID</th>\n",
       "      <th>AgentID</th>\n",
       "      <th>Name</th>\n",
       "    </tr>\n",
       "  </thead>\n",
       "  <tbody>\n",
       "    <tr>\n",
       "      <th>0</th>\n",
       "      <td>12</td>\n",
       "      <td>3</td>\n",
       "      <td>Todd Morrow</td>\n",
       "    </tr>\n",
       "    <tr>\n",
       "      <th>1</th>\n",
       "      <td>28</td>\n",
       "      <td>3</td>\n",
       "      <td>Todd Morrow</td>\n",
       "    </tr>\n",
       "    <tr>\n",
       "      <th>2</th>\n",
       "      <td>32</td>\n",
       "      <td>3</td>\n",
       "      <td>Todd Morrow</td>\n",
       "    </tr>\n",
       "    <tr>\n",
       "      <th>3</th>\n",
       "      <td>50</td>\n",
       "      <td>3</td>\n",
       "      <td>Todd Morrow</td>\n",
       "    </tr>\n",
       "    <tr>\n",
       "      <th>4</th>\n",
       "      <td>60</td>\n",
       "      <td>3</td>\n",
       "      <td>Todd Morrow</td>\n",
       "    </tr>\n",
       "    <tr>\n",
       "      <th>...</th>\n",
       "      <td>...</td>\n",
       "      <td>...</td>\n",
       "      <td>...</td>\n",
       "    </tr>\n",
       "    <tr>\n",
       "      <th>9934</th>\n",
       "      <td>9985</td>\n",
       "      <td>10</td>\n",
       "      <td>Agent X</td>\n",
       "    </tr>\n",
       "    <tr>\n",
       "      <th>9935</th>\n",
       "      <td>9986</td>\n",
       "      <td>10</td>\n",
       "      <td>Agent X</td>\n",
       "    </tr>\n",
       "    <tr>\n",
       "      <th>9936</th>\n",
       "      <td>9991</td>\n",
       "      <td>10</td>\n",
       "      <td>Agent X</td>\n",
       "    </tr>\n",
       "    <tr>\n",
       "      <th>9937</th>\n",
       "      <td>9992</td>\n",
       "      <td>10</td>\n",
       "      <td>Agent X</td>\n",
       "    </tr>\n",
       "    <tr>\n",
       "      <th>9938</th>\n",
       "      <td>9994</td>\n",
       "      <td>10</td>\n",
       "      <td>Agent X</td>\n",
       "    </tr>\n",
       "  </tbody>\n",
       "</table>\n",
       "<p>9939 rows × 3 columns</p>\n",
       "</div>"
      ],
      "text/plain": [
       "      CallID  AgentID         Name\n",
       "0         12        3  Todd Morrow\n",
       "1         28        3  Todd Morrow\n",
       "2         32        3  Todd Morrow\n",
       "3         50        3  Todd Morrow\n",
       "4         60        3  Todd Morrow\n",
       "...      ...      ...          ...\n",
       "9934    9985       10      Agent X\n",
       "9935    9986       10      Agent X\n",
       "9936    9991       10      Agent X\n",
       "9937    9992       10      Agent X\n",
       "9938    9994       10      Agent X\n",
       "\n",
       "[9939 rows x 3 columns]"
      ]
     },
     "execution_count": 25,
     "metadata": {},
     "output_type": "execute_result"
    }
   ],
   "source": [
    "query6 = \"\"\"SELECT CallID, A.AgentID, name\n",
    "FROM Call C\n",
    "JOIN Agent A ON C.AgentID = A.AgentID\n",
    "ORDER BY Name DESC\"\"\"\n",
    "runQuery(query6)"
   ]
  },
  {
   "cell_type": "markdown",
   "metadata": {},
   "source": [
    "Note that:\n",
    "\n",
    "1. `C` and `A` are aliases to the `Call` and `Agent` tables to avoid having to type the table name every time. Unlike with column aliasing earlier, we do not need the `AS` keyword here\n",
    "2. We write `A.AgentID` instead of `AgentID` in the SELECT statement – this is because the `AgentID` column exists in both tables, so we have to tell the database which one to get the result from"
   ]
  },
  {
   "cell_type": "markdown",
   "metadata": {},
   "source": [
    "### Exercise 4: (7 min)\n",
    "\n",
    "Write a query which returns all calls made out to customers in the engineering profession, and shows whether they are over or under 30 as well as whether they ended up purchasing the product from that call."
   ]
  },
  {
   "cell_type": "markdown",
   "metadata": {},
   "source": [
    "**Answer.** One possible solution is given below:"
   ]
  },
  {
   "cell_type": "markdown",
   "metadata": {},
   "source": [
    "```SQL\n",
    "SELECT CallID, Cu.CustomerID, Name, ProductSold,\n",
    "    CASE\n",
    "        WHEN Age >= 30 THEN 'Yes'\n",
    "        WHEN Age <  30 THEN 'No'\n",
    "        ELSE 'Missing Data'\n",
    "    END AS Over30\n",
    "FROM Customer Cu\n",
    "JOIN Call Ca ON Ca.CustomerID = Cu.CustomerID\n",
    "WHERE Occupation LIKE '%Engineer%'\n",
    "ORDER BY Name DESC\n",
    "```"
   ]
  },
  {
   "cell_type": "code",
   "execution_count": 26,
   "metadata": {},
   "outputs": [
    {
     "data": {
      "text/html": [
       "<div>\n",
       "<style scoped>\n",
       "    .dataframe tbody tr th:only-of-type {\n",
       "        vertical-align: middle;\n",
       "    }\n",
       "\n",
       "    .dataframe tbody tr th {\n",
       "        vertical-align: top;\n",
       "    }\n",
       "\n",
       "    .dataframe thead th {\n",
       "        text-align: right;\n",
       "    }\n",
       "</style>\n",
       "<table border=\"1\" class=\"dataframe\">\n",
       "  <thead>\n",
       "    <tr style=\"text-align: right;\">\n",
       "      <th></th>\n",
       "      <th>CallID</th>\n",
       "      <th>CustomerID</th>\n",
       "      <th>Name</th>\n",
       "      <th>ProductSold</th>\n",
       "      <th>Over30</th>\n",
       "    </tr>\n",
       "  </thead>\n",
       "  <tbody>\n",
       "    <tr>\n",
       "      <th>0</th>\n",
       "      <td>2049</td>\n",
       "      <td>421</td>\n",
       "      <td>Zachary Ruiz</td>\n",
       "      <td>0</td>\n",
       "      <td>Yes</td>\n",
       "    </tr>\n",
       "    <tr>\n",
       "      <th>1</th>\n",
       "      <td>2960</td>\n",
       "      <td>421</td>\n",
       "      <td>Zachary Ruiz</td>\n",
       "      <td>0</td>\n",
       "      <td>Yes</td>\n",
       "    </tr>\n",
       "    <tr>\n",
       "      <th>2</th>\n",
       "      <td>3365</td>\n",
       "      <td>421</td>\n",
       "      <td>Zachary Ruiz</td>\n",
       "      <td>0</td>\n",
       "      <td>Yes</td>\n",
       "    </tr>\n",
       "    <tr>\n",
       "      <th>3</th>\n",
       "      <td>3386</td>\n",
       "      <td>421</td>\n",
       "      <td>Zachary Ruiz</td>\n",
       "      <td>1</td>\n",
       "      <td>Yes</td>\n",
       "    </tr>\n",
       "    <tr>\n",
       "      <th>4</th>\n",
       "      <td>4332</td>\n",
       "      <td>421</td>\n",
       "      <td>Zachary Ruiz</td>\n",
       "      <td>0</td>\n",
       "      <td>Yes</td>\n",
       "    </tr>\n",
       "    <tr>\n",
       "      <th>...</th>\n",
       "      <td>...</td>\n",
       "      <td>...</td>\n",
       "      <td>...</td>\n",
       "      <td>...</td>\n",
       "      <td>...</td>\n",
       "    </tr>\n",
       "    <tr>\n",
       "      <th>3614</th>\n",
       "      <td>6444</td>\n",
       "      <td>622</td>\n",
       "      <td>Aaron Rose</td>\n",
       "      <td>1</td>\n",
       "      <td>No</td>\n",
       "    </tr>\n",
       "    <tr>\n",
       "      <th>3615</th>\n",
       "      <td>7994</td>\n",
       "      <td>622</td>\n",
       "      <td>Aaron Rose</td>\n",
       "      <td>0</td>\n",
       "      <td>No</td>\n",
       "    </tr>\n",
       "    <tr>\n",
       "      <th>3616</th>\n",
       "      <td>8811</td>\n",
       "      <td>622</td>\n",
       "      <td>Aaron Rose</td>\n",
       "      <td>0</td>\n",
       "      <td>No</td>\n",
       "    </tr>\n",
       "    <tr>\n",
       "      <th>3617</th>\n",
       "      <td>9524</td>\n",
       "      <td>622</td>\n",
       "      <td>Aaron Rose</td>\n",
       "      <td>1</td>\n",
       "      <td>No</td>\n",
       "    </tr>\n",
       "    <tr>\n",
       "      <th>3618</th>\n",
       "      <td>9965</td>\n",
       "      <td>622</td>\n",
       "      <td>Aaron Rose</td>\n",
       "      <td>0</td>\n",
       "      <td>No</td>\n",
       "    </tr>\n",
       "  </tbody>\n",
       "</table>\n",
       "<p>3619 rows × 5 columns</p>\n",
       "</div>"
      ],
      "text/plain": [
       "      CallID  CustomerID          Name  ProductSold Over30\n",
       "0       2049         421  Zachary Ruiz            0    Yes\n",
       "1       2960         421  Zachary Ruiz            0    Yes\n",
       "2       3365         421  Zachary Ruiz            0    Yes\n",
       "3       3386         421  Zachary Ruiz            1    Yes\n",
       "4       4332         421  Zachary Ruiz            0    Yes\n",
       "...      ...         ...           ...          ...    ...\n",
       "3614    6444         622    Aaron Rose            1     No\n",
       "3615    7994         622    Aaron Rose            0     No\n",
       "3616    8811         622    Aaron Rose            0     No\n",
       "3617    9524         622    Aaron Rose            1     No\n",
       "3618    9965         622    Aaron Rose            0     No\n",
       "\n",
       "[3619 rows x 5 columns]"
      ]
     },
     "execution_count": 26,
     "metadata": {},
     "output_type": "execute_result"
    }
   ],
   "source": [
    "query7 = \"\"\"SELECT CallID, Cu.CustomerID, Name, ProductSold,\n",
    "    CASE\n",
    "        WHEN Age >= 30 THEN 'Yes'\n",
    "        WHEN Age <  30 THEN 'No'\n",
    "        ELSE 'Missing Data'\n",
    "    END AS Over30\n",
    "FROM Customer Cu\n",
    "JOIN Call Ca ON Ca.CustomerID = Cu.CustomerID\n",
    "WHERE Occupation LIKE '%Engineer%'\n",
    "ORDER BY Name DESC\"\"\"\n",
    "runQuery(query7)"
   ]
  },
  {
   "cell_type": "markdown",
   "metadata": {},
   "source": [
    "## Analyzing the call conversion data (15 min)\n",
    "\n",
    "Now, we want to determine whether or not customers in our desired cohort exhibit a higher sales conversion rate compared to the overall population of customers. A reasonable way to do this is to count the total number of calls to this cohort which resulted in a sale, and divide that by the total number of calls to this cohort (whether or not they resulted in a sale) to get a percentage, and then compare that with the percentage we compute from the `calls` table overall.\n",
    "\n",
    "However, to compute these figures, we'll need to learn a bit about **aggregation functions**. An aggregation function allows you to perform a calculation on a set of values to return a single value, essentially computing some sort of summary statistic.\n",
    "\n",
    "Aggregation queries usually look like this:\n",
    "\n",
    "![Aggregation Queries](./images/aggregation.png)\n",
    "\n",
    "The following are the most commonly used SQL aggregate functions:\n",
    "\n",
    "1. `AVG()` – calculates the average of a set of values\n",
    "2. `COUNT()` – counts rows in a specified table or view\n",
    "3. `MIN()` – gets the minimum value in a set of values\n",
    "4. `MAX()` – gets the maximum value in a set of values\n",
    "5. `SUM()` – calculates the sum of values\n",
    "\n",
    "As mentioned before, PostgreSQL as some more advanced [aggregate functions](https://www.postgresql.org/docs/9.5/functions-aggregate.html). Specifically, they have some nice ones for statistics. For example,\n",
    "\n",
    "1. `regr_intercept(Y, X)` - Returns the intercept for the line of best fit\n",
    "2. `regr_slope(Y, X)` - Returns the slope of the line of best fit\n",
    "3. `corr(Y, X)` - Returns the correlation between two columns"
   ]
  },
  {
   "cell_type": "markdown",
   "metadata": {},
   "source": [
    "### Exercise 5: (5 min)\n",
    "\n",
    "Write two queries - one that computes the total sales and total calls made to customers in the engineering profession, and one that computes the same metrics for the entire customer base. What can you conclude regarding the conversion rate within the engineering customers vs. the overall customer base?"
   ]
  },
  {
   "cell_type": "markdown",
   "metadata": {},
   "source": [
    "**Answer.** One possible solution is given below:"
   ]
  },
  {
   "cell_type": "markdown",
   "metadata": {},
   "source": [
    "```SQL\n",
    "SELECT SUM(ProductSold) AS TotalSales, COUNT(*) AS NCalls\n",
    "FROM Customer Cu\n",
    "JOIN Call Ca ON Ca.CustomerID = Cu.CustomerID\n",
    "WHERE Occupation LIKE '%Engineer%'\n",
    "```"
   ]
  },
  {
   "cell_type": "code",
   "execution_count": 26,
   "metadata": {},
   "outputs": [
    {
     "data": {
      "text/html": [
       "<div>\n",
       "<style scoped>\n",
       "    .dataframe tbody tr th:only-of-type {\n",
       "        vertical-align: middle;\n",
       "    }\n",
       "\n",
       "    .dataframe tbody tr th {\n",
       "        vertical-align: top;\n",
       "    }\n",
       "\n",
       "    .dataframe thead th {\n",
       "        text-align: right;\n",
       "    }\n",
       "</style>\n",
       "<table border=\"1\" class=\"dataframe\">\n",
       "  <thead>\n",
       "    <tr style=\"text-align: right;\">\n",
       "      <th></th>\n",
       "      <th>TotalSales</th>\n",
       "      <th>NCalls</th>\n",
       "    </tr>\n",
       "  </thead>\n",
       "  <tbody>\n",
       "    <tr>\n",
       "      <th>0</th>\n",
       "      <td>760</td>\n",
       "      <td>3619</td>\n",
       "    </tr>\n",
       "  </tbody>\n",
       "</table>\n",
       "</div>"
      ],
      "text/plain": [
       "   TotalSales  NCalls\n",
       "0         760    3619"
      ]
     },
     "execution_count": 26,
     "metadata": {},
     "output_type": "execute_result"
    }
   ],
   "source": [
    "query8 = \"\"\"SELECT SUM(ProductSold) AS TotalSales, COUNT(*) AS NCalls\n",
    "FROM Customer Cu\n",
    "JOIN Call Ca ON Ca.CustomerID = Cu.CustomerID\n",
    "WHERE Occupation LIKE '%Engineer%'\"\"\"\n",
    "runQuery(query8)"
   ]
  },
  {
   "cell_type": "code",
   "execution_count": 27,
   "metadata": {},
   "outputs": [
    {
     "data": {
      "text/plain": [
       "0.21000276319425257"
      ]
     },
     "execution_count": 27,
     "metadata": {},
     "output_type": "execute_result"
    }
   ],
   "source": [
    "760/3619"
   ]
  },
  {
   "cell_type": "markdown",
   "metadata": {},
   "source": [
    "```SQL\n",
    "SELECT SUM(ProductSold) AS TotalSales, COUNT(*) AS NCalls\n",
    "FROM Customer Cu\n",
    "JOIN Call Ca ON Ca.CustomerID = Cu.CustomerID\n",
    "```"
   ]
  },
  {
   "cell_type": "code",
   "execution_count": 36,
   "metadata": {
    "scrolled": true
   },
   "outputs": [
    {
     "data": {
      "text/html": [
       "<div>\n",
       "<style scoped>\n",
       "    .dataframe tbody tr th:only-of-type {\n",
       "        vertical-align: middle;\n",
       "    }\n",
       "\n",
       "    .dataframe tbody tr th {\n",
       "        vertical-align: top;\n",
       "    }\n",
       "\n",
       "    .dataframe thead th {\n",
       "        text-align: right;\n",
       "    }\n",
       "</style>\n",
       "<table border=\"1\" class=\"dataframe\">\n",
       "  <thead>\n",
       "    <tr style=\"text-align: right;\">\n",
       "      <th></th>\n",
       "      <th>TotalSales</th>\n",
       "      <th>NCalls</th>\n",
       "      <th>conversion_rate</th>\n",
       "    </tr>\n",
       "  </thead>\n",
       "  <tbody>\n",
       "    <tr>\n",
       "      <th>0</th>\n",
       "      <td>760</td>\n",
       "      <td>3619</td>\n",
       "      <td>21</td>\n",
       "    </tr>\n",
       "  </tbody>\n",
       "</table>\n",
       "</div>"
      ],
      "text/plain": [
       "   TotalSales  NCalls  conversion_rate\n",
       "0         760    3619               21"
      ]
     },
     "execution_count": 36,
     "metadata": {},
     "output_type": "execute_result"
    }
   ],
   "source": [
    "query9 = \"\"\"SELECT SUM(ProductSold) AS TotalSales, COUNT(*) AS NCalls, SUM(ProductSold)*100/COUNT(*) conversion_rate\n",
    "FROM Customer Cu\n",
    "JOIN Call Ca ON Ca.CustomerID = Cu.CustomerID\n",
    "where occupation like '%Engineer%'\n",
    "\"\"\"\n",
    "runQuery(query9)"
   ]
  },
  {
   "cell_type": "markdown",
   "metadata": {},
   "source": [
    "The conversion rate for both groups is ~20.9%, indicating that engineers are not more likely to purchase our products than the overall population."
   ]
  },
  {
   "cell_type": "markdown",
   "metadata": {},
   "source": [
    "### Exercise 6: (3 min)\n",
    "\n",
    "Write a query that computes the total sales and total calls made to customers over the age of 30. Is there a notable difference between the conversion ratio here and that of the overall customer base?"
   ]
  },
  {
   "cell_type": "markdown",
   "metadata": {},
   "source": [
    "**Answer.** One possible solution is given below:"
   ]
  },
  {
   "cell_type": "markdown",
   "metadata": {},
   "source": [
    "```SQL\n",
    "SELECT SUM(ProductSold) AS TotalSales, COUNT(*) AS NCalls\n",
    "FROM Customer Cu\n",
    "JOIN Call Ca ON Ca.CustomerID = Cu.CustomerID\n",
    "WHERE Age >= 30\n",
    "```"
   ]
  },
  {
   "cell_type": "code",
   "execution_count": 33,
   "metadata": {},
   "outputs": [
    {
     "data": {
      "text/html": [
       "<div>\n",
       "<style scoped>\n",
       "    .dataframe tbody tr th:only-of-type {\n",
       "        vertical-align: middle;\n",
       "    }\n",
       "\n",
       "    .dataframe tbody tr th {\n",
       "        vertical-align: top;\n",
       "    }\n",
       "\n",
       "    .dataframe thead th {\n",
       "        text-align: right;\n",
       "    }\n",
       "</style>\n",
       "<table border=\"1\" class=\"dataframe\">\n",
       "  <thead>\n",
       "    <tr style=\"text-align: right;\">\n",
       "      <th></th>\n",
       "      <th>TotalSales</th>\n",
       "      <th>NCalls</th>\n",
       "    </tr>\n",
       "  </thead>\n",
       "  <tbody>\n",
       "    <tr>\n",
       "      <th>0</th>\n",
       "      <td>659</td>\n",
       "      <td>3096</td>\n",
       "    </tr>\n",
       "  </tbody>\n",
       "</table>\n",
       "</div>"
      ],
      "text/plain": [
       "   TotalSales  NCalls\n",
       "0         659    3096"
      ]
     },
     "execution_count": 33,
     "metadata": {},
     "output_type": "execute_result"
    }
   ],
   "source": [
    "query10 = \"\"\"SELECT SUM(ProductSold) AS TotalSales, COUNT(*) AS NCalls\n",
    "FROM Customer Cu\n",
    "JOIN Call Ca ON Ca.CustomerID = Cu.CustomerID\n",
    "WHERE Age >= 30\"\"\"\n",
    "runQuery(query10)"
   ]
  },
  {
   "cell_type": "markdown",
   "metadata": {},
   "source": [
    "The conversion rate is ~21.1% vs. the overall ~20.9%. There may be some difference, but it is quite small so we would need to run statistical significance tests in order to validate this. (You will learn about these in future cases.)"
   ]
  },
  {
   "cell_type": "markdown",
   "metadata": {},
   "source": [
    "### Exercise 7: (3 min)\n",
    "\n",
    "How about if you look at the sales conversion rate for engineers over the age of 30?"
   ]
  },
  {
   "cell_type": "markdown",
   "metadata": {},
   "source": [
    "```SQL\n",
    "SELECT SUM(ProductSold) AS TotalSales, COUNT(*) AS NCalls\n",
    "FROM Customer Cu\n",
    "JOIN Call Ca ON Ca.CustomerID = Cu.CustomerID\n",
    "WHERE Occupation LIKE '%Engineer%' AND Age >= 30\n",
    "```"
   ]
  },
  {
   "cell_type": "markdown",
   "metadata": {},
   "source": [
    "**Answer.** One possible solution is given below:"
   ]
  },
  {
   "cell_type": "code",
   "execution_count": 34,
   "metadata": {},
   "outputs": [
    {
     "data": {
      "text/html": [
       "<div>\n",
       "<style scoped>\n",
       "    .dataframe tbody tr th:only-of-type {\n",
       "        vertical-align: middle;\n",
       "    }\n",
       "\n",
       "    .dataframe tbody tr th {\n",
       "        vertical-align: top;\n",
       "    }\n",
       "\n",
       "    .dataframe thead th {\n",
       "        text-align: right;\n",
       "    }\n",
       "</style>\n",
       "<table border=\"1\" class=\"dataframe\">\n",
       "  <thead>\n",
       "    <tr style=\"text-align: right;\">\n",
       "      <th></th>\n",
       "      <th>TotalSales</th>\n",
       "      <th>NCalls</th>\n",
       "    </tr>\n",
       "  </thead>\n",
       "  <tbody>\n",
       "    <tr>\n",
       "      <th>0</th>\n",
       "      <td>376</td>\n",
       "      <td>1816</td>\n",
       "    </tr>\n",
       "  </tbody>\n",
       "</table>\n",
       "</div>"
      ],
      "text/plain": [
       "   TotalSales  NCalls\n",
       "0         376    1816"
      ]
     },
     "execution_count": 34,
     "metadata": {},
     "output_type": "execute_result"
    }
   ],
   "source": [
    "query11 = \"\"\"SELECT SUM(ProductSold) AS TotalSales, COUNT(*) AS NCalls\n",
    "FROM Customer Cu\n",
    "JOIN Call Ca ON Ca.CustomerID = Cu.CustomerID\n",
    "WHERE Occupation LIKE '%Engineer%' AND Age >= 30\"\"\"\n",
    "runQuery(query11)"
   ]
  },
  {
   "cell_type": "markdown",
   "metadata": {},
   "source": [
    "Here, we actually observe the opposite pattern – the conversion rate is only ~20.5%."
   ]
  },
  {
   "cell_type": "markdown",
   "metadata": {},
   "source": [
    "From these numbers, we can conclude that a customer's status as an engineering professional has no positive effect on their conversion rate. On the other hand, having an age of at least 30 MAY have some effect; however, we would need to do more in-depth statistical testing to determine this."
   ]
  },
  {
   "cell_type": "markdown",
   "metadata": {
    "collapsed": true
   },
   "source": [
    "## Evaluating our agents' performance (20 min)"
   ]
  },
  {
   "cell_type": "markdown",
   "metadata": {},
   "source": [
    "Recall the second part of our business question: we need to figure out which of our agents are the most and least productive. To do this, it makes sense to determine which metrics could be related to productivity. Looking at the features present, the following seem to be reasonable:\n",
    "\n",
    "1. The number of calls an agent made\n",
    "2. The lengths of calls an agent made\n",
    "3. The total number of products an agent sold"
   ]
  },
  {
   "cell_type": "markdown",
   "metadata": {},
   "source": [
    "### Question: (5 min)\n",
    "\n",
    "For any given agent, would extracting this info be a good way of quickly analyzing their productivity? Why or why not?"
   ]
  },
  {
   "cell_type": "markdown",
   "metadata": {},
   "source": [
    "While the above metrics are useful, some of them are too numerous to be easiy analyzed. Specifically, the lengths of calls an agent made is a dataset that is as large as the number of calls the agent made. If the agent made many calls, it will be meaningless to just throw the entire set of call lengths at ourselves. Instead, we ought to compute some summary statistics of this metric; namely, the minimum, maximum, and mean lengths seem reasonable."
   ]
  },
  {
   "cell_type": "markdown",
   "metadata": {},
   "source": [
    "### Exercise 8: (5 min)\n",
    "\n",
    "Write a query that returns, for each agent, the agent's name, number of calls, longest and shortest call lengths, average call length, and total number of products sold. Name the columns `AgentName`, `NCalls`, `Shortest`, `Longest`, `AvgDuration`, and `TotalSales`, and order the table by `AgentName` alphabetically. (Make sure to include the `WHERE PickedUp = 1` clause to only calculate the average across all the calls that were picked up (otherwise all the minimum durations will be 0)!)"
   ]
  },
  {
   "cell_type": "markdown",
   "metadata": {},
   "source": [
    "**Answer.** One possible solution is given below:"
   ]
  },
  {
   "cell_type": "markdown",
   "metadata": {},
   "source": [
    "```SQL\n",
    "SELECT Name AS AgentName, COUNT(*) AS NCalls, MIN(Duration) AS Shortest, MAX(Duration) AS Longest, AVG(Duration) AS AvgDuration, SUM(ProductSold) AS TotalSales\n",
    "FROM Calls C\n",
    "    JOIN Agent A ON C.AgentID = A.AgentID\n",
    "WHERE PickeDup = 1\n",
    "GROUP BY Name\n",
    "ORDER BY Name\n",
    "```"
   ]
  },
  {
   "cell_type": "code",
   "execution_count": 37,
   "metadata": {},
   "outputs": [
    {
     "data": {
      "text/html": [
       "<div>\n",
       "<style scoped>\n",
       "    .dataframe tbody tr th:only-of-type {\n",
       "        vertical-align: middle;\n",
       "    }\n",
       "\n",
       "    .dataframe tbody tr th {\n",
       "        vertical-align: top;\n",
       "    }\n",
       "\n",
       "    .dataframe thead th {\n",
       "        text-align: right;\n",
       "    }\n",
       "</style>\n",
       "<table border=\"1\" class=\"dataframe\">\n",
       "  <thead>\n",
       "    <tr style=\"text-align: right;\">\n",
       "      <th></th>\n",
       "      <th>AgentName</th>\n",
       "      <th>NCalls</th>\n",
       "      <th>Shortest</th>\n",
       "      <th>Longest</th>\n",
       "      <th>AvgDuration</th>\n",
       "      <th>TotalSales</th>\n",
       "    </tr>\n",
       "  </thead>\n",
       "  <tbody>\n",
       "    <tr>\n",
       "      <th>0</th>\n",
       "      <td>Agent X</td>\n",
       "      <td>640</td>\n",
       "      <td>22</td>\n",
       "      <td>334</td>\n",
       "      <td>180.975000</td>\n",
       "      <td>194</td>\n",
       "    </tr>\n",
       "    <tr>\n",
       "      <th>1</th>\n",
       "      <td>Angel Briggs</td>\n",
       "      <td>591</td>\n",
       "      <td>12</td>\n",
       "      <td>362</td>\n",
       "      <td>181.081218</td>\n",
       "      <td>157</td>\n",
       "    </tr>\n",
       "    <tr>\n",
       "      <th>2</th>\n",
       "      <td>Christopher Moreno</td>\n",
       "      <td>649</td>\n",
       "      <td>47</td>\n",
       "      <td>363</td>\n",
       "      <td>177.979969</td>\n",
       "      <td>189</td>\n",
       "    </tr>\n",
       "    <tr>\n",
       "      <th>3</th>\n",
       "      <td>Dana Hardy</td>\n",
       "      <td>554</td>\n",
       "      <td>49</td>\n",
       "      <td>356</td>\n",
       "      <td>177.203971</td>\n",
       "      <td>182</td>\n",
       "    </tr>\n",
       "    <tr>\n",
       "      <th>4</th>\n",
       "      <td>Gloria Singh</td>\n",
       "      <td>662</td>\n",
       "      <td>36</td>\n",
       "      <td>349</td>\n",
       "      <td>182.175227</td>\n",
       "      <td>209</td>\n",
       "    </tr>\n",
       "    <tr>\n",
       "      <th>...</th>\n",
       "      <td>...</td>\n",
       "      <td>...</td>\n",
       "      <td>...</td>\n",
       "      <td>...</td>\n",
       "      <td>...</td>\n",
       "      <td>...</td>\n",
       "    </tr>\n",
       "    <tr>\n",
       "      <th>6</th>\n",
       "      <td>Lisa Cordova</td>\n",
       "      <td>639</td>\n",
       "      <td>46</td>\n",
       "      <td>344</td>\n",
       "      <td>179.214397</td>\n",
       "      <td>201</td>\n",
       "    </tr>\n",
       "    <tr>\n",
       "      <th>7</th>\n",
       "      <td>Michele Williams</td>\n",
       "      <td>685</td>\n",
       "      <td>22</td>\n",
       "      <td>306</td>\n",
       "      <td>177.880292</td>\n",
       "      <td>198</td>\n",
       "    </tr>\n",
       "    <tr>\n",
       "      <th>8</th>\n",
       "      <td>Paul Nunez</td>\n",
       "      <td>648</td>\n",
       "      <td>-5</td>\n",
       "      <td>323</td>\n",
       "      <td>181.070988</td>\n",
       "      <td>194</td>\n",
       "    </tr>\n",
       "    <tr>\n",
       "      <th>9</th>\n",
       "      <td>Randy Moore</td>\n",
       "      <td>600</td>\n",
       "      <td>16</td>\n",
       "      <td>326</td>\n",
       "      <td>178.595000</td>\n",
       "      <td>177</td>\n",
       "    </tr>\n",
       "    <tr>\n",
       "      <th>10</th>\n",
       "      <td>Todd Morrow</td>\n",
       "      <td>631</td>\n",
       "      <td>-3</td>\n",
       "      <td>339</td>\n",
       "      <td>180.711569</td>\n",
       "      <td>204</td>\n",
       "    </tr>\n",
       "  </tbody>\n",
       "</table>\n",
       "<p>11 rows × 6 columns</p>\n",
       "</div>"
      ],
      "text/plain": [
       "             AgentName  NCalls  Shortest  Longest  AvgDuration  TotalSales\n",
       "0              Agent X     640        22      334   180.975000         194\n",
       "1         Angel Briggs     591        12      362   181.081218         157\n",
       "2   Christopher Moreno     649        47      363   177.979969         189\n",
       "3           Dana Hardy     554        49      356   177.203971         182\n",
       "4         Gloria Singh     662        36      349   182.175227         209\n",
       "..                 ...     ...       ...      ...          ...         ...\n",
       "6         Lisa Cordova     639        46      344   179.214397         201\n",
       "7     Michele Williams     685        22      306   177.880292         198\n",
       "8           Paul Nunez     648        -5      323   181.070988         194\n",
       "9          Randy Moore     600        16      326   178.595000         177\n",
       "10         Todd Morrow     631        -3      339   180.711569         204\n",
       "\n",
       "[11 rows x 6 columns]"
      ]
     },
     "execution_count": 37,
     "metadata": {},
     "output_type": "execute_result"
    }
   ],
   "source": [
    "query12 = \"\"\"SELECT Name AS AgentName, COUNT(*) AS NCalls, MIN(Duration) AS Shortest, MAX(Duration) AS Longest, AVG(Duration) AS AvgDuration, SUM(ProductSold) AS TotalSales\n",
    "FROM Call C\n",
    "    JOIN Agent A ON C.AgentID = A.AgentID\n",
    "WHERE PickeDup = 1\n",
    "GROUP BY Name\n",
    "ORDER BY Name\"\"\"\n",
    "runQuery(query12)"
   ]
  },
  {
   "cell_type": "markdown",
   "metadata": {},
   "source": [
    "## Conclusions (2 min)"
   ]
  },
  {
   "cell_type": "markdown",
   "metadata": {},
   "source": [
    "In this case, you learned the basics of SQL and used it to optimize the sales operations of a financial services firm. We narrowed down our set of potentially interesting customer cohorts and were able to compute summary statistics on the sales conversion rates of those cohorts, particularly versus the mean. In particular, we learned that some of our \"no-brainer\" hypotheses did not pan out, which illustrates the importance of always investigating the data to validate our thoughts. We also looked at sales agent performance and were able to find the ones that were most/least productive on particular metrics."
   ]
  },
  {
   "cell_type": "markdown",
   "metadata": {},
   "source": [
    "## Takeaways (3 min)"
   ]
  },
  {
   "cell_type": "markdown",
   "metadata": {},
   "source": [
    "In this case, we learned the basics of RDBMS systems and their appropriate terminology. We also built a foundation of basic SQL commands to extract data from a database. Specifically we:\n",
    "\n",
    "1. Learned what an RDBMS is\n",
    "2. Connected to a database using ```SQLAlchemy```\n",
    "3. Performed ```SELECT ... FROM``` queries\n",
    "4. Learned the ```WHERE```, ```ORDER BY```, ```AS```, ```DISTINCT```, ```LIKE```, ```CASE-END```, and ```JOIN```, keywords\n",
    "5. Performed basic aggregation methods\n",
    "  "
   ]
  }
 ],
 "metadata": {
  "kernelspec": {
   "display_name": "Python 3 (ipykernel)",
   "language": "python",
   "name": "python3"
  },
  "language_info": {
   "codemirror_mode": {
    "name": "ipython",
    "version": 3
   },
   "file_extension": ".py",
   "mimetype": "text/x-python",
   "name": "python",
   "nbconvert_exporter": "python",
   "pygments_lexer": "ipython3",
   "version": "3.9.13"
  }
 },
 "nbformat": 4,
 "nbformat_minor": 2
}
